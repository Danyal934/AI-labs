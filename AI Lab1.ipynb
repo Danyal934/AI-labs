{
  "cells": [
    {
      "cell_type": "markdown",
      "metadata": {
        "id": "MT3xXLB_37ir"
      },
      "source": [
        "#Comments in Python"
      ]
    },
    {
      "cell_type": "code",
      "execution_count": 13,
      "metadata": {
        "colab": {
          "base_uri": "https://localhost:8080/"
        },
        "id": "oP87nJo64DCK",
        "outputId": "1b26353f-b3e3-4703-d95d-11c23468c020"
      },
      "outputs": [
        {
          "name": "stdout",
          "output_type": "stream",
          "text": [
            " Comment statement can not run or executeable\n"
          ]
        }
      ],
      "source": [
        "#print(this is a comment)\n",
        "print(\" Comment statement can not run or executeable\")"
      ]
    },
    {
      "cell_type": "markdown",
      "metadata": {
        "id": "7-jNJhA94KKA"
      },
      "source": [
        "#Input & Output"
      ]
    },
    {
      "cell_type": "code",
      "execution_count": null,
      "metadata": {
        "colab": {
          "base_uri": "https://localhost:8080/"
        },
        "id": "WaaT8u3k4IXw",
        "outputId": "02ead708-a28a-4c80-bd60-934b743b46a3"
      },
      "outputs": [],
      "source": [
        "text = input(\"plz enter your name\")\n",
        "print(text)"
      ]
    },
    {
      "cell_type": "markdown",
      "metadata": {
        "id": "dCjgK7PO4hYE"
      },
      "source": [
        "#Multiple statements on a single line"
      ]
    },
    {
      "cell_type": "code",
      "execution_count": null,
      "metadata": {},
      "outputs": [],
      "source": [
        "print(\"Danyal\");print(\"Danyal\");print(\"Danyal\")"
      ]
    },
    {
      "cell_type": "markdown",
      "metadata": {
        "id": "9tSY7oqk40dr"
      },
      "source": [
        "#Indentation"
      ]
    },
    {
      "cell_type": "code",
      "execution_count": null,
      "metadata": {
        "id": "vg0CE7j94vmS"
      },
      "outputs": [],
      "source": [
        "\n",
        "'''\n",
        "x==0\n",
        "x = \"my name is Danyal Qamar\"\n",
        "if x == 0\n",
        "print(x)\n",
        "'''\n",
        "\n",
        "x=0\n",
        "x = \"my name is Danyal Qamar\"\n",
        "if x == 0:\n",
        " print(x)\n"
      ]
    },
    {
      "cell_type": "markdown",
      "metadata": {
        "id": "2-yE6WeY5SmH"
      },
      "source": [
        "#Use of Single and Tab Indentation"
      ]
    },
    {
      "cell_type": "code",
      "execution_count": null,
      "metadata": {
        "colab": {
          "base_uri": "https://localhost:8080/"
        },
        "id": "fauY1l3r4-77",
        "outputId": "5deb5b07-46f1-44f1-d264-f17e8378d6cb"
      },
      "outputs": [
        {
          "name": "stdout",
          "output_type": "stream",
          "text": [
            "we use FOUR SPACES for indentation\n"
          ]
        }
      ],
      "source": [
        "x=1\n",
        "if x>0:\n",
        "    print(\"we use FOUR SPACES for indentation\")\n",
        "if x<0:\n",
        "  print(\"we use a TAB for our indentation\")"
      ]
    },
    {
      "cell_type": "markdown",
      "metadata": {
        "id": "vXhP2hjy6MZO"
      },
      "source": [
        "#Type Checking"
      ]
    },
    {
      "cell_type": "code",
      "execution_count": null,
      "metadata": {
        "colab": {
          "base_uri": "https://localhost:8080/"
        },
        "id": "8aZHXeuy6V3s",
        "outputId": "21041cc6-be11-44ca-f111-a6747697e93e"
      },
      "outputs": [
        {
          "name": "stdout",
          "output_type": "stream",
          "text": [
            "<class 'float'>\n"
          ]
        }
      ],
      "source": [
        "#use type function\n",
        "x = 9.00\n",
        "print(type(x))"
      ]
    },
    {
      "cell_type": "code",
      "execution_count": null,
      "metadata": {
        "colab": {
          "base_uri": "https://localhost:8080/"
        },
        "id": "i9ANxibR6dwd",
        "outputId": "62bfcef6-94b9-4f7d-f237-efb4ab31210a"
      },
      "outputs": [
        {
          "name": "stdout",
          "output_type": "stream",
          "text": [
            "<class 'int'>\n"
          ]
        }
      ],
      "source": [
        "x = 9\n",
        "print(type(x))\n"
      ]
    },
    {
      "cell_type": "code",
      "execution_count": null,
      "metadata": {
        "colab": {
          "base_uri": "https://localhost:8080/"
        },
        "id": "F2zdr6YJ6jI2",
        "outputId": "8c44e816-916a-453b-f095-0c83fb29a952"
      },
      "outputs": [
        {
          "name": "stdout",
          "output_type": "stream",
          "text": [
            "<class 'str'>\n"
          ]
        }
      ],
      "source": [
        "x = \"sharif\"\n",
        "print(type(x))"
      ]
    },
    {
      "cell_type": "code",
      "execution_count": null,
      "metadata": {
        "colab": {
          "base_uri": "https://localhost:8080/"
        },
        "id": "T4Im8mvh6j_4",
        "outputId": "54d576ab-e129-4e43-c4cc-20b60132f5b1"
      },
      "outputs": [
        {
          "name": "stdout",
          "output_type": "stream",
          "text": [
            "<class 'str'>\n"
          ]
        }
      ],
      "source": [
        "x = str(9.00)\n",
        "print(type(x))"
      ]
    }
  ],
  "metadata": {
    "colab": {
      "provenance": [],
      "toc_visible": true
    },
    "kernelspec": {
      "display_name": "Python 3",
      "name": "python3"
    },
    "language_info": {
      "name": "python"
    }
  },
  "nbformat": 4,
  "nbformat_minor": 0
}
